{
 "cells": [
  {
   "cell_type": "markdown",
   "id": "be1749ea",
   "metadata": {},
   "source": [
    "Modules installation and configuration"
   ]
  },
  {
   "cell_type": "code",
   "execution_count": 13,
   "id": "5b56fd99",
   "metadata": {},
   "outputs": [],
   "source": [
    "import sys\n",
    "##Change the path to folder where your SPM data locates\n",
    "sys.path.append(r'C:\\Users\\Yalan\\PycharmProjects\\GrainBot_v2')\n",
    "sys.path.append(r'C:\\Users\\Yalan\\PycharmProjects\\GrainBot_v2\\GBGchar')\n",
    "from importlib.machinery import SourceFileLoader\n",
    "import postprocess_special as process\n",
    "import mask_operation as mask_op\n",
    "#import GBGchar.CNNseg as seg\n",
    "import AFMOpr\n",
    "import MaskOpr\n",
    "import GrainOpr\n",
    "import StatisticM\n",
    "##Install the following packages using pip first\n",
    "import matplotlib.pyplot as plt\n",
    "import random\n",
    "import cv2\n",
    "import numpy as np\n",
    "import pandas as pd\n",
    "segment=SourceFileLoader(\"ImageSeg\", \"ImageSeg.py\").load_module()"
   ]
  },
  {
   "cell_type": "markdown",
   "id": "6a98c9aa",
   "metadata": {},
   "source": [
    "Loading SPM images and seg"
   ]
  },
  {
   "cell_type": "code",
   "execution_count": 14,
   "id": "1eee2a4b",
   "metadata": {},
   "outputs": [
    {
     "name": "stdout",
     "output_type": "stream",
     "text": [
      "successfully segmented\n"
     ]
    },
    {
     "ename": "UnidentifiedImageError",
     "evalue": "cannot identify image file 'C:\\\\Users\\\\Yalan\\\\GB-project-data\\\\Validationset\\\\a02.png.csv'",
     "output_type": "error",
     "traceback": [
      "\u001b[1;31m---------------------------------------------------------------------------\u001b[0m",
      "\u001b[1;31mUnidentifiedImageError\u001b[0m                    Traceback (most recent call last)",
      "\u001b[1;32m~\\AppData\\Local\\Temp\\ipykernel_3312\\661310892.py\u001b[0m in \u001b[0;36m<module>\u001b[1;34m\u001b[0m\n\u001b[0;32m      5\u001b[0m \u001b[0mwei_path\u001b[0m\u001b[1;33m=\u001b[0m\u001b[1;34m'params/unet.pth'\u001b[0m\u001b[1;33m\u001b[0m\u001b[1;33m\u001b[0m\u001b[0m\n\u001b[0;32m      6\u001b[0m \u001b[0mDataset\u001b[0m\u001b[1;33m=\u001b[0m\u001b[0msegment\u001b[0m\u001b[1;33m.\u001b[0m\u001b[0mvalidation\u001b[0m\u001b[1;33m(\u001b[0m\u001b[0mwei_path\u001b[0m\u001b[1;33m)\u001b[0m\u001b[1;33m\u001b[0m\u001b[1;33m\u001b[0m\u001b[0m\n\u001b[1;32m----> 7\u001b[1;33m \u001b[0mDataset\u001b[0m\u001b[1;33m.\u001b[0m\u001b[0mvalid\u001b[0m\u001b[1;33m(\u001b[0m\u001b[0mimgpath\u001b[0m\u001b[1;33m)\u001b[0m\u001b[1;33m\u001b[0m\u001b[1;33m\u001b[0m\u001b[0m\n\u001b[0m\u001b[0;32m      8\u001b[0m \u001b[1;31m##Successfully segmented images could be found in the same path\u001b[0m\u001b[1;33m\u001b[0m\u001b[1;33m\u001b[0m\u001b[1;33m\u001b[0m\u001b[0m\n",
      "\u001b[1;32m~\\PycharmProjects\\GrainBot_v2\\ImageSeg.py\u001b[0m in \u001b[0;36mvalid\u001b[1;34m(self, imgpath)\u001b[0m\n\u001b[0;32m     19\u001b[0m                 \u001b[0mfile\u001b[0m \u001b[1;33m=\u001b[0m \u001b[0mimgpath\u001b[0m \u001b[1;33m+\u001b[0m \u001b[1;34m\"\\\\\"\u001b[0m \u001b[1;33m+\u001b[0m \u001b[0mname\u001b[0m\u001b[1;33m\u001b[0m\u001b[1;33m\u001b[0m\u001b[0m\n\u001b[0;32m     20\u001b[0m                 \u001b[0m_input\u001b[0m \u001b[1;33m=\u001b[0m \u001b[0mfile\u001b[0m\u001b[1;33m\u001b[0m\u001b[1;33m\u001b[0m\u001b[0m\n\u001b[1;32m---> 21\u001b[1;33m                 \u001b[0mimg\u001b[0m \u001b[1;33m=\u001b[0m \u001b[0mkeep_image_size_open\u001b[0m\u001b[1;33m(\u001b[0m\u001b[0m_input\u001b[0m\u001b[1;33m)\u001b[0m\u001b[1;33m\u001b[0m\u001b[1;33m\u001b[0m\u001b[0m\n\u001b[0m\u001b[0;32m     22\u001b[0m                 \u001b[0mimg_data\u001b[0m \u001b[1;33m=\u001b[0m \u001b[0mtransform\u001b[0m\u001b[1;33m(\u001b[0m\u001b[0mimg\u001b[0m\u001b[1;33m)\u001b[0m\u001b[1;33m.\u001b[0m\u001b[0mto\u001b[0m\u001b[1;33m(\u001b[0m\u001b[0mtorch\u001b[0m\u001b[1;33m.\u001b[0m\u001b[0mdevice\u001b[0m\u001b[1;33m(\u001b[0m\u001b[1;34m'cpu'\u001b[0m\u001b[1;33m)\u001b[0m\u001b[1;33m)\u001b[0m\u001b[1;33m\u001b[0m\u001b[1;33m\u001b[0m\u001b[0m\n\u001b[0;32m     23\u001b[0m                 \u001b[0mimg_data\u001b[0m \u001b[1;33m=\u001b[0m \u001b[0mtorch\u001b[0m\u001b[1;33m.\u001b[0m\u001b[0munsqueeze\u001b[0m\u001b[1;33m(\u001b[0m\u001b[0mimg_data\u001b[0m\u001b[1;33m,\u001b[0m \u001b[0mdim\u001b[0m\u001b[1;33m=\u001b[0m\u001b[1;36m0\u001b[0m\u001b[1;33m)\u001b[0m\u001b[1;33m\u001b[0m\u001b[1;33m\u001b[0m\u001b[0m\n",
      "\u001b[1;32m~\\PycharmProjects\\GrainBot_v2\\utils.py\u001b[0m in \u001b[0;36mkeep_image_size_open\u001b[1;34m(path, size)\u001b[0m\n\u001b[0;32m      3\u001b[0m \u001b[1;33m\u001b[0m\u001b[0m\n\u001b[0;32m      4\u001b[0m \u001b[1;32mdef\u001b[0m \u001b[0mkeep_image_size_open\u001b[0m\u001b[1;33m(\u001b[0m\u001b[0mpath\u001b[0m\u001b[1;33m,\u001b[0m \u001b[0msize\u001b[0m\u001b[1;33m=\u001b[0m\u001b[1;33m(\u001b[0m\u001b[1;36m256\u001b[0m\u001b[1;33m,\u001b[0m \u001b[1;36m256\u001b[0m\u001b[1;33m)\u001b[0m\u001b[1;33m)\u001b[0m\u001b[1;33m:\u001b[0m\u001b[1;33m\u001b[0m\u001b[1;33m\u001b[0m\u001b[0m\n\u001b[1;32m----> 5\u001b[1;33m     \u001b[0mimg\u001b[0m \u001b[1;33m=\u001b[0m \u001b[0mImage\u001b[0m\u001b[1;33m.\u001b[0m\u001b[0mopen\u001b[0m\u001b[1;33m(\u001b[0m\u001b[0mpath\u001b[0m\u001b[1;33m)\u001b[0m\u001b[1;33m\u001b[0m\u001b[1;33m\u001b[0m\u001b[0m\n\u001b[0m\u001b[0;32m      6\u001b[0m     \u001b[0mtemp\u001b[0m \u001b[1;33m=\u001b[0m \u001b[0mmax\u001b[0m\u001b[1;33m(\u001b[0m\u001b[0mimg\u001b[0m\u001b[1;33m.\u001b[0m\u001b[0msize\u001b[0m\u001b[1;33m)\u001b[0m\u001b[1;33m\u001b[0m\u001b[1;33m\u001b[0m\u001b[0m\n\u001b[0;32m      7\u001b[0m     \u001b[0mmask\u001b[0m \u001b[1;33m=\u001b[0m \u001b[0mImage\u001b[0m\u001b[1;33m.\u001b[0m\u001b[0mnew\u001b[0m\u001b[1;33m(\u001b[0m\u001b[1;34m'RGB'\u001b[0m\u001b[1;33m,\u001b[0m \u001b[1;33m(\u001b[0m\u001b[0mtemp\u001b[0m\u001b[1;33m,\u001b[0m \u001b[0mtemp\u001b[0m\u001b[1;33m)\u001b[0m\u001b[1;33m,\u001b[0m \u001b[1;33m(\u001b[0m\u001b[1;36m0\u001b[0m\u001b[1;33m,\u001b[0m \u001b[1;36m0\u001b[0m\u001b[1;33m,\u001b[0m \u001b[1;36m0\u001b[0m\u001b[1;33m)\u001b[0m\u001b[1;33m)\u001b[0m\u001b[1;33m\u001b[0m\u001b[1;33m\u001b[0m\u001b[0m\n",
      "\u001b[1;32m~\\anaconda3\\envs\\python37\\lib\\site-packages\\PIL\\Image.py\u001b[0m in \u001b[0;36mopen\u001b[1;34m(fp, mode, formats)\u001b[0m\n\u001b[0;32m   3281\u001b[0m         \u001b[0mwarnings\u001b[0m\u001b[1;33m.\u001b[0m\u001b[0mwarn\u001b[0m\u001b[1;33m(\u001b[0m\u001b[0mmessage\u001b[0m\u001b[1;33m)\u001b[0m\u001b[1;33m\u001b[0m\u001b[1;33m\u001b[0m\u001b[0m\n\u001b[0;32m   3282\u001b[0m     \u001b[0mmsg\u001b[0m \u001b[1;33m=\u001b[0m \u001b[1;34m\"cannot identify image file %r\"\u001b[0m \u001b[1;33m%\u001b[0m \u001b[1;33m(\u001b[0m\u001b[0mfilename\u001b[0m \u001b[1;32mif\u001b[0m \u001b[0mfilename\u001b[0m \u001b[1;32melse\u001b[0m \u001b[0mfp\u001b[0m\u001b[1;33m)\u001b[0m\u001b[1;33m\u001b[0m\u001b[1;33m\u001b[0m\u001b[0m\n\u001b[1;32m-> 3283\u001b[1;33m     \u001b[1;32mraise\u001b[0m \u001b[0mUnidentifiedImageError\u001b[0m\u001b[1;33m(\u001b[0m\u001b[0mmsg\u001b[0m\u001b[1;33m)\u001b[0m\u001b[1;33m\u001b[0m\u001b[1;33m\u001b[0m\u001b[0m\n\u001b[0m\u001b[0;32m   3284\u001b[0m \u001b[1;33m\u001b[0m\u001b[0m\n\u001b[0;32m   3285\u001b[0m \u001b[1;33m\u001b[0m\u001b[0m\n",
      "\u001b[1;31mUnidentifiedImageError\u001b[0m: cannot identify image file 'C:\\\\Users\\\\Yalan\\\\GB-project-data\\\\Validationset\\\\a02.png.csv'"
     ]
    }
   ],
   "source": [
    "##Make sure there are only .png images need segmentation in this path\n",
    "##Remove all the outputs before rerunning the code\n",
    "\n",
    "imgpath=r'C:\\Users\\Yalan\\GB-project-data\\Validationset'\n",
    "wei_path='params/unet.pth'\n",
    "Dataset=segment.validation(wei_path)\n",
    "Dataset.valid(imgpath)\n",
    "##Successfully segmented images could be found in the same path\n"
   ]
  },
  {
   "cell_type": "markdown",
   "id": "d5957843",
   "metadata": {},
   "source": [
    "Microstructural parameters measurement"
   ]
  },
  {
   "cell_type": "code",
   "execution_count": 15,
   "id": "b89620a1",
   "metadata": {},
   "outputs": [
    {
     "ename": "error",
     "evalue": "OpenCV(4.9.0) D:\\a\\opencv-python\\opencv-python\\opencv\\modules\\imgproc\\src\\color.cpp:196: error: (-215:Assertion failed) !_src.empty() in function 'cv::cvtColor'\n",
     "output_type": "error",
     "traceback": [
      "\u001b[1;31m---------------------------------------------------------------------------\u001b[0m",
      "\u001b[1;31merror\u001b[0m                                     Traceback (most recent call last)",
      "\u001b[1;32m~\\AppData\\Local\\Temp\\ipykernel_3312\\3453205071.py\u001b[0m in \u001b[0;36m<module>\u001b[1;34m\u001b[0m\n\u001b[0;32m      9\u001b[0m     \u001b[0mafm_img\u001b[0m\u001b[1;33m=\u001b[0m\u001b[0mcv2\u001b[0m\u001b[1;33m.\u001b[0m\u001b[0mimread\u001b[0m\u001b[1;33m(\u001b[0m\u001b[0mimgpath\u001b[0m\u001b[1;33m+\u001b[0m\u001b[1;34m'\\\\'\u001b[0m\u001b[1;33m+\u001b[0m\u001b[0mn\u001b[0m\u001b[1;33m)\u001b[0m\u001b[1;33m\u001b[0m\u001b[1;33m\u001b[0m\u001b[0m\n\u001b[0;32m     10\u001b[0m     \u001b[0mmask_img\u001b[0m\u001b[1;33m=\u001b[0m\u001b[0mcv2\u001b[0m\u001b[1;33m.\u001b[0m\u001b[0mimread\u001b[0m\u001b[1;33m(\u001b[0m\u001b[0mimgpath\u001b[0m\u001b[1;33m+\u001b[0m\u001b[1;34m'\\\\'\u001b[0m\u001b[1;33m+\u001b[0m\u001b[1;34m'seg_'\u001b[0m\u001b[1;33m+\u001b[0m\u001b[0mn\u001b[0m\u001b[1;33m)\u001b[0m\u001b[1;33m\u001b[0m\u001b[1;33m\u001b[0m\u001b[0m\n\u001b[1;32m---> 11\u001b[1;33m     \u001b[0mact_img\u001b[0m\u001b[1;33m=\u001b[0m\u001b[0mAFMOpr\u001b[0m\u001b[1;33m.\u001b[0m\u001b[0mAFMimg\u001b[0m\u001b[1;33m(\u001b[0m\u001b[0mafm_img\u001b[0m\u001b[1;33m,\u001b[0m\u001b[0mmask_img\u001b[0m\u001b[1;33m,\u001b[0m\u001b[0mz_min\u001b[0m\u001b[1;33m,\u001b[0m\u001b[0mz_max\u001b[0m\u001b[1;33m,\u001b[0m\u001b[0mimg_width\u001b[0m\u001b[1;33m)\u001b[0m\u001b[1;33m\u001b[0m\u001b[1;33m\u001b[0m\u001b[0m\n\u001b[0m\u001b[0;32m     12\u001b[0m     \u001b[0mact_img\u001b[0m\u001b[1;33m.\u001b[0m\u001b[0mMorphOpr\u001b[0m\u001b[1;33m(\u001b[0m\u001b[1;33m)\u001b[0m\u001b[1;33m\u001b[0m\u001b[1;33m\u001b[0m\u001b[0m\n\u001b[0;32m     13\u001b[0m     \u001b[0mact_img\u001b[0m\u001b[1;33m.\u001b[0m\u001b[0mLabeling\u001b[0m\u001b[1;33m(\u001b[0m\u001b[1;33m)\u001b[0m\u001b[1;33m\u001b[0m\u001b[1;33m\u001b[0m\u001b[0m\n",
      "\u001b[1;32m~\\PycharmProjects\\GrainBot_v2\\GBGchar\\AFMOpr.py\u001b[0m in \u001b[0;36m__init__\u001b[1;34m(self, afmrgb, maskimg, lmin, lmax, width)\u001b[0m\n\u001b[0;32m      7\u001b[0m         \u001b[0mself\u001b[0m\u001b[1;33m.\u001b[0m\u001b[0mmaskimg\u001b[0m \u001b[1;33m=\u001b[0m \u001b[0mmaskimg\u001b[0m\u001b[1;33m\u001b[0m\u001b[1;33m\u001b[0m\u001b[0m\n\u001b[0;32m      8\u001b[0m \u001b[1;33m\u001b[0m\u001b[0m\n\u001b[1;32m----> 9\u001b[1;33m         \u001b[0mself\u001b[0m\u001b[1;33m.\u001b[0m\u001b[0mafm\u001b[0m \u001b[1;33m=\u001b[0m \u001b[0mcv2\u001b[0m\u001b[1;33m.\u001b[0m\u001b[0mcvtColor\u001b[0m\u001b[1;33m(\u001b[0m\u001b[0mafmrgb\u001b[0m\u001b[1;33m,\u001b[0m \u001b[0mcv2\u001b[0m\u001b[1;33m.\u001b[0m\u001b[0mCOLOR_BGR2GRAY\u001b[0m\u001b[1;33m)\u001b[0m\u001b[1;33m\u001b[0m\u001b[1;33m\u001b[0m\u001b[0m\n\u001b[0m\u001b[0;32m     10\u001b[0m         \u001b[0mdepthimg\u001b[0m \u001b[1;33m=\u001b[0m \u001b[0mself\u001b[0m\u001b[1;33m.\u001b[0m\u001b[0mafm\u001b[0m\u001b[1;33m.\u001b[0m\u001b[0mcopy\u001b[0m\u001b[1;33m(\u001b[0m\u001b[1;33m)\u001b[0m\u001b[1;33m\u001b[0m\u001b[1;33m\u001b[0m\u001b[0m\n\u001b[0;32m     11\u001b[0m         \u001b[0mself\u001b[0m\u001b[1;33m.\u001b[0m\u001b[0mlmin\u001b[0m \u001b[1;33m=\u001b[0m \u001b[0mlmin\u001b[0m\u001b[1;33m\u001b[0m\u001b[1;33m\u001b[0m\u001b[0m\n",
      "\u001b[1;31merror\u001b[0m: OpenCV(4.9.0) D:\\a\\opencv-python\\opencv-python\\opencv\\modules\\imgproc\\src\\color.cpp:196: error: (-215:Assertion failed) !_src.empty() in function 'cv::cvtColor'\n"
     ]
    }
   ],
   "source": [
    "pddata=pd.DataFrame({'gsa':[1],'cve':[1],'rel_cve':[1],\\\n",
    "                     'rel_h':[1],'cca':[1],'rel_d':[1],'mean_angle':[1]})\n",
    "pd_angle=pd.DataFrame({'grain number':[1],'gsa':[1]})\n",
    "##Input scale information of SPM images (unit:nm)\n",
    "z_min=-40\n",
    "z_max=40\n",
    "img_width=4000\n",
    "for n in Dataset.filenames:\n",
    "    afm_img=cv2.imread(imgpath+'\\\\'+n)\n",
    "    mask_img=cv2.imread(imgpath+'\\\\'+'seg_'+n)\n",
    "    act_img=AFMOpr.AFMimg(afm_img,mask_img,z_min,z_max,img_width)\n",
    "    act_img.MorphOpr()\n",
    "    act_img.Labeling()\n",
    "    for i in range(1,act_img.numx):\n",
    "    \n",
    "        grain=GrainOpr.Grains(i)\n",
    "        grain.grainmask(act_img.labelimg,act_img.afm)\n",
    "        grain.maskdil(act_img.afm)\n",
    "        grain.maskregain(act_img.afm)\n",
    "        grain.maskero(act_img.afm)\n",
    "        grain.areacal()\n",
    "        volcoe=(act_img.lmax-act_img.lmin)/255*act_img.pixelsize*act_img.pixelsize\n",
    "        areacoe=act_img.pixelsize*act_img.pixelsize\n",
    "        if grain.area>50:\n",
    "            grain.voidcal(5)##The step of sections used for CCA or CVE calculation\n",
    "            grain.anglecal(act_img.realdimg,act_img.pixelsize)\n",
    "        \n",
    "            realarea=grain.area*areacoe\n",
    "            data_i=pd.DataFrame({'gsa':[realarea],'cve':[grain.vb*volcoe],\\\n",
    "                                 'rel_cve':[grain.rel_vb*volcoe],'rel_h':[grain.vb*volcoe/realarea],\\\n",
    "                                 'cca':[grain.vd*volcoe],'rel_d':[grain.vd*volcoe/realarea],\\\n",
    "                                 'mean_angle':[max(grain.angles)]},index=[i])\n",
    "            for j in range(0,len(grain.angles)):\n",
    "                angle_j=pd.DataFrame({'grain number':[i],'gsa':[grain.angles[j]]},index=[])\n",
    "                pd_angle=pd.concat([pd_angle,angle_j])\n",
    "            \n",
    "            pddata=pd.concat([pddata,data_i])\n",
    "        else:\n",
    "            continue\n",
    "        \n",
    "    pddata.to_csv(imgpath+'//'+n+'.csv')\n",
    "    pd_angle.to_csv(imgpath+'//angles_'+n+'.csv')"
   ]
  },
  {
   "cell_type": "markdown",
   "id": "58149fb6",
   "metadata": {},
   "source": [
    "Statisitcal analysis on microstructural parameters"
   ]
  },
  {
   "cell_type": "code",
   "execution_count": null,
   "id": "3d517208",
   "metadata": {},
   "outputs": [],
   "source": [
    "\n",
    "Angledata=StatisticM.StatisticAng(imgpath+'//'+'allangles_A3.0_00007.csv')\n",
    "CCAdata=StatisticM.StatisticCCA(imgpath+'//'+'A3.0_00002.csv')\n",
    "CVEdata=StatisticM.StatisticCVE(imgpath+'//'+'A3.0_00002.csv')\n",
    "GSAdata=StatisticM.StatisticGSA(imgpath+'//'+'A3.0_00002.csv')\n",
    "figure = plt.figure(figsize=(12,10),edgecolor=\"black\",frameon=True)\n",
    "plt.tight_layout()\n",
    "ax=plt.subplot(2,2,1)\n",
    "Angledata.histplot(1,40)\n",
    "plt.text(0.55, 0.7, 'mean: ' + '%.2f' % Angledata.mu, transform=ax.transAxes, size=18)\n",
    "plt.text(0.55, 0.6, 'variance: ' + '%.2f' % Angledata.sigma, transform=ax.transAxes,size=18)\n",
    "plt.subplot(2,2,2)\n",
    "CCAdata.histplot()\n",
    "plt.subplot(2,2,3)\n",
    "CVEdata.histplot()\n",
    "plt.subplot(2,2,4)\n",
    "GSAdata.histplot()\n",
    "plt.tight_layout(pad=2,w_pad=3)\n"
   ]
  }
 ],
 "metadata": {
  "kernelspec": {
   "display_name": "Python [conda env:python37] *",
   "language": "python",
   "name": "conda-env-python37-py"
  },
  "language_info": {
   "codemirror_mode": {
    "name": "ipython",
    "version": 3
   },
   "file_extension": ".py",
   "mimetype": "text/x-python",
   "name": "python",
   "nbconvert_exporter": "python",
   "pygments_lexer": "ipython3",
   "version": "3.7.16"
  }
 },
 "nbformat": 4,
 "nbformat_minor": 5
}
